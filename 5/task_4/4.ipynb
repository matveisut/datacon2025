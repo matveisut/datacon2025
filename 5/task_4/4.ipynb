{
 "cells": [
  {
   "cell_type": "markdown",
   "metadata": {},
   "source": [
    "# из прошлого таска я возьму которую показала себя лучше всех, то есть lgbm"
   ]
  },
  {
   "cell_type": "code",
   "execution_count": 23,
   "metadata": {},
   "outputs": [],
   "source": [
    "import pickle\n",
    "import pandas as pd\n",
    "# load\n",
    "with open('lgbm.pkl', 'rb') as f:\n",
    "    lgbm = pickle.load(f)\n",
    "\n",
    "with open('scaler.pkl', 'rb') as f:\n",
    "    scaler = pickle.load(f)"
   ]
  },
  {
   "cell_type": "code",
   "execution_count": 24,
   "metadata": {},
   "outputs": [
    {
     "name": "stderr",
     "output_type": "stream",
     "text": [
      "c:\\Users\\user\\AppData\\Local\\Programs\\Python\\Python39\\lib\\site-packages\\sklearn\\utils\\validation.py:2739: UserWarning: X does not have valid feature names, but LGBMRegressor was fitted with feature names\n",
      "  warnings.warn(\n"
     ]
    },
    {
     "data": {
      "text/plain": [
       "array([-2.91140458, -2.91140458])"
      ]
     },
     "execution_count": 24,
     "metadata": {},
     "output_type": "execute_result"
    }
   ],
   "source": [
    "lgbm.predict([[i for i in range(139)],\\\n",
    "              [i for i in range(139)]]) # Проверил дейстительно ли 139 столбцов должно быть"
   ]
  },
  {
   "cell_type": "code",
   "execution_count": 25,
   "metadata": {},
   "outputs": [],
   "source": [
    "with open('cols_from_descriptor.txt') as file:\n",
    "    name_of_features = [line.strip() for line in file]"
   ]
  },
  {
   "cell_type": "code",
   "execution_count": 26,
   "metadata": {},
   "outputs": [],
   "source": [
    "from rdkit import Chem\n",
    "from rdkit.Chem import Descriptors\n",
    "\n",
    "def get_descriptors(df):\n",
    "    mol_list = []\n",
    "    for smile in df['smiles']:\n",
    "        mol = Chem.MolFromSmiles(smile)\n",
    "        mol = Chem.AddHs(mol)\n",
    "        mol_list.append(mol)\n",
    "    df['mol'] = mol_list\n",
    "\n",
    "    lis = []\n",
    "    for mol in df['mol']:\n",
    "        #display(Draw.MolToImage(mol))\n",
    "        all_descriptors = Descriptors.CalcMolDescriptors(mol)\n",
    "        lis.append(all_descriptors)\n",
    "    descrps = pd.DataFrame(lis)\n",
    "    descrps = descrps[name_of_features]\n",
    "    #res_df = df[name_of_features]\n",
    "    return descrps"
   ]
  },
  {
   "cell_type": "markdown",
   "metadata": {},
   "source": [
    "# сгенерированные молекулы были сделаны с помощью drugGpt"
   ]
  },
  {
   "cell_type": "code",
   "execution_count": 27,
   "metadata": {},
   "outputs": [
    {
     "name": "stderr",
     "output_type": "stream",
     "text": [
      "[17:08:39] Can't kekulize mol.  Unkekulized atoms: 5 6 7 8 9 10 11 12 14\n"
     ]
    }
   ],
   "source": [
    "generated_molecules = pd.read_csv('generated_mols.csv',names=  ['num','smiles'])\n",
    "generated_molecules = generated_molecules.drop(['num'], axis = 1)\n",
    "\n",
    "for i in generated_molecules['smiles']:\n",
    "    if not Chem.MolFromSmiles(i):\n",
    "        generated_molecules.drop(index=generated_molecules[generated_molecules['smiles'] == i].index, inplace=True)"
   ]
  },
  {
   "cell_type": "code",
   "execution_count": 28,
   "metadata": {},
   "outputs": [
    {
     "data": {
      "text/html": [
       "<div>\n",
       "<style scoped>\n",
       "    .dataframe tbody tr th:only-of-type {\n",
       "        vertical-align: middle;\n",
       "    }\n",
       "\n",
       "    .dataframe tbody tr th {\n",
       "        vertical-align: top;\n",
       "    }\n",
       "\n",
       "    .dataframe thead th {\n",
       "        text-align: right;\n",
       "    }\n",
       "</style>\n",
       "<table border=\"1\" class=\"dataframe\">\n",
       "  <thead>\n",
       "    <tr style=\"text-align: right;\">\n",
       "      <th></th>\n",
       "      <th>smiles</th>\n",
       "    </tr>\n",
       "  </thead>\n",
       "  <tbody>\n",
       "    <tr>\n",
       "      <th>0</th>\n",
       "      <td>CS(=O)(=O)c1ccc(cc1)-n1cc(nc1-c1ccc(cc1)[N+]([...</td>\n",
       "    </tr>\n",
       "    <tr>\n",
       "      <th>1</th>\n",
       "      <td>CS(=O)(=O)c1ccc(cc1)-n1cc(nc1-c1cc(Cl)cc(Cl)c1...</td>\n",
       "    </tr>\n",
       "    <tr>\n",
       "      <th>2</th>\n",
       "      <td>CS(=O)(=O)c1ccc(cc1)-c1cc(Br)sc1-c1ccc(F)cc1</td>\n",
       "    </tr>\n",
       "    <tr>\n",
       "      <th>3</th>\n",
       "      <td>CS(=O)(=O)c1ccc(cc1)-n1cc(nc1-c1ccc(Cl)cc1)C(F...</td>\n",
       "    </tr>\n",
       "    <tr>\n",
       "      <th>4</th>\n",
       "      <td>NS(=O)(=O)c1ccc(cc1)-n1cc(nc1-c1ccc(Cl)c(Cl)c1...</td>\n",
       "    </tr>\n",
       "    <tr>\n",
       "      <th>...</th>\n",
       "      <td>...</td>\n",
       "    </tr>\n",
       "    <tr>\n",
       "      <th>195</th>\n",
       "      <td>CS(=O)(=O)c1ccc(cc1)-c1cnn(CC(F)(F)F)c(=O)c1-c...</td>\n",
       "    </tr>\n",
       "    <tr>\n",
       "      <th>196</th>\n",
       "      <td>Cc1ccc(cc1)-c1nc(cn1-c1ccc(cc1)S(C)(=O)=O)C(F)...</td>\n",
       "    </tr>\n",
       "    <tr>\n",
       "      <th>197</th>\n",
       "      <td>Cc1ccc(cc1)-n1c(SCc2cn(nn2)-c2ccc(cc2)C(F)(F)F...</td>\n",
       "    </tr>\n",
       "    <tr>\n",
       "      <th>198</th>\n",
       "      <td>COc1ccc(cc1OC)-c1nc(cn1-c1ccc(cc1)S(N)(=O)=O)C...</td>\n",
       "    </tr>\n",
       "    <tr>\n",
       "      <th>199</th>\n",
       "      <td>Cc1ccc(cn1)-c1cc(nn1-c1ccc(cc1)S(N)(=O)=O)C(F)...</td>\n",
       "    </tr>\n",
       "  </tbody>\n",
       "</table>\n",
       "<p>199 rows × 1 columns</p>\n",
       "</div>"
      ],
      "text/plain": [
       "                                                smiles\n",
       "0    CS(=O)(=O)c1ccc(cc1)-n1cc(nc1-c1ccc(cc1)[N+]([...\n",
       "1    CS(=O)(=O)c1ccc(cc1)-n1cc(nc1-c1cc(Cl)cc(Cl)c1...\n",
       "2         CS(=O)(=O)c1ccc(cc1)-c1cc(Br)sc1-c1ccc(F)cc1\n",
       "3    CS(=O)(=O)c1ccc(cc1)-n1cc(nc1-c1ccc(Cl)cc1)C(F...\n",
       "4    NS(=O)(=O)c1ccc(cc1)-n1cc(nc1-c1ccc(Cl)c(Cl)c1...\n",
       "..                                                 ...\n",
       "195  CS(=O)(=O)c1ccc(cc1)-c1cnn(CC(F)(F)F)c(=O)c1-c...\n",
       "196  Cc1ccc(cc1)-c1nc(cn1-c1ccc(cc1)S(C)(=O)=O)C(F)...\n",
       "197  Cc1ccc(cc1)-n1c(SCc2cn(nn2)-c2ccc(cc2)C(F)(F)F...\n",
       "198  COc1ccc(cc1OC)-c1nc(cn1-c1ccc(cc1)S(N)(=O)=O)C...\n",
       "199  Cc1ccc(cn1)-c1cc(nn1-c1ccc(cc1)S(N)(=O)=O)C(F)...\n",
       "\n",
       "[199 rows x 1 columns]"
      ]
     },
     "execution_count": 28,
     "metadata": {},
     "output_type": "execute_result"
    }
   ],
   "source": [
    "generated_molecules"
   ]
  },
  {
   "cell_type": "code",
   "execution_count": 29,
   "metadata": {},
   "outputs": [],
   "source": [
    "\n",
    "X = get_descriptors(generated_molecules)\n",
    "\n",
    "X_scaled = scaler.transform(X)"
   ]
  },
  {
   "cell_type": "code",
   "execution_count": 30,
   "metadata": {},
   "outputs": [
    {
     "name": "stderr",
     "output_type": "stream",
     "text": [
      "c:\\Users\\user\\AppData\\Local\\Programs\\Python\\Python39\\lib\\site-packages\\sklearn\\utils\\validation.py:2739: UserWarning: X does not have valid feature names, but LGBMRegressor was fitted with feature names\n",
      "  warnings.warn(\n"
     ]
    },
    {
     "data": {
      "text/plain": [
       "(199,)"
      ]
     },
     "execution_count": 30,
     "metadata": {},
     "output_type": "execute_result"
    }
   ],
   "source": [
    "predicts = lgbm.predict(X_scaled)\n",
    "predicts.shape"
   ]
  },
  {
   "cell_type": "code",
   "execution_count": 31,
   "metadata": {},
   "outputs": [
    {
     "data": {
      "text/plain": [
       "<Axes: >"
      ]
     },
     "execution_count": 31,
     "metadata": {},
     "output_type": "execute_result"
    },
    {
     "data": {
      "image/png": "[encoded data removed]",
      "text/plain": [
       "<Figure size 640x480 with 1 Axes>"
      ]
     },
     "metadata": {},
     "output_type": "display_data"
    }
   ],
   "source": [
    "import seaborn as sns\n",
    "\n",
    "sns.boxplot(predicts)"
   ]
  },
  {
   "cell_type": "markdown",
   "metadata": {},
   "source": [
    "# Результаты оставляют желать лучшего)))."
   ]
  },
  {
   "cell_type": "markdown",
   "metadata": {},
   "source": [
    "# Пытался залезть в другой генератор freedd++, но понимаю что с ним я буду очень долго разбираться. Пытался получить формат pdbqt для freedd++, но вылазили вечные ошибки, то там, то тут"
   ]
  },
  {
   "cell_type": "code",
   "execution_count": 32,
   "metadata": {},
   "outputs": [
    {
     "data": {
      "text/plain": [
       "0     -3.428640\n",
       "1     -3.502452\n",
       "2     -2.084740\n",
       "3     -3.631124\n",
       "4     -3.778018\n",
       "         ...   \n",
       "194   -3.508372\n",
       "195   -3.430240\n",
       "196   -3.742184\n",
       "197   -4.077348\n",
       "198   -2.886730\n",
       "Name: predicted_value, Length: 199, dtype: float64"
      ]
     },
     "execution_count": 32,
     "metadata": {},
     "output_type": "execute_result"
    }
   ],
   "source": [
    "predicts = pd.Series(predicts)\n",
    "predicts.rename('predicted_value', inplace=True)"
   ]
  },
  {
   "cell_type": "code",
   "execution_count": 33,
   "metadata": {},
   "outputs": [
    {
     "data": {
      "text/plain": [
       "<Axes: ylabel='predicted_value'>"
      ]
     },
     "execution_count": 33,
     "metadata": {},
     "output_type": "execute_result"
    },
    {
     "data": {
      "image/png": "[encoded data removed]",
      "text/plain": [
       "<Figure size 640x480 with 1 Axes>"
      ]
     },
     "metadata": {},
     "output_type": "display_data"
    }
   ],
   "source": [
    "generated_molecules.reset_index(inplace=True, drop=True)\n",
    "predicts.reset_index(inplace=True, drop=True)\n",
    "generated_molecules = pd.concat([generated_molecules, predicts], axis = 1)\n",
    "\n",
    "sns.boxplot(generated_molecules.predicted_value)"
   ]
  },
  {
   "cell_type": "code",
   "execution_count": 34,
   "metadata": {},
   "outputs": [],
   "source": [
    "import rdkit\n",
    "def calculate_qed(smiles):\n",
    "    mol = Chem.MolFromSmiles(smiles)\n",
    "    if mol is None:\n",
    "        return None\n",
    "    return rdkit.Chem.QED.qed(mol)\n",
    "\n",
    "generated_molecules['qed'] = generated_molecules['smiles'].apply(calculate_qed)"
   ]
  },
  {
   "cell_type": "code",
   "execution_count": 35,
   "metadata": {},
   "outputs": [],
   "source": [
    "import rdkit.Contrib.SA_Score.sascorer as sascorer # Обратите внимание на путь\n",
    "\n",
    "\n",
    "def calculate_sa_score(smiles):\n",
    "    mol = Chem.MolFromSmiles(smiles)\n",
    "    return sascorer.calculateScore(mol)\n",
    "\n",
    "generated_molecules['sa_score'] = generated_molecules['smiles'].apply(calculate_sa_score)"
   ]
  },
  {
   "cell_type": "code",
   "execution_count": 36,
   "metadata": {},
   "outputs": [
    {
     "data": {
      "text/plain": [
       "<Axes: ylabel='sa_score'>"
      ]
     },
     "execution_count": 36,
     "metadata": {},
     "output_type": "execute_result"
    },
    {
     "data": {
      "image/png": "[encoded data removed]",
      "text/plain": [
       "<Figure size 1200x600 with 2 Axes>"
      ]
     },
     "metadata": {},
     "output_type": "display_data"
    }
   ],
   "source": [
    "import matplotlib.pyplot as plt\n",
    "\n",
    "fig, axes = plt.subplots(1, 2, figsize=(12, 6))\n",
    "\n",
    "sns.boxplot(generated_molecules['qed'], ax = axes[0])\n",
    "sns.boxplot(generated_molecules['sa_score'], ax = axes[1])"
   ]
  },
  {
   "cell_type": "code",
   "execution_count": 37,
   "metadata": {},
   "outputs": [],
   "source": [
    "from rdkit import Chem\n",
    "from rdkit.Chem.FilterCatalog import FilterCatalog, FilterCatalogParams\n",
    "\n",
    "def count_brenk_matches(smiles):\n",
    "\n",
    "    mol = Chem.MolFromSmiles(smiles)\n",
    "\n",
    "    if not hasattr(count_brenk_matches, 'catalog'):\n",
    "        params = FilterCatalogParams()\n",
    "        params.AddCatalog(FilterCatalogParams.FilterCatalogs.BRENK)\n",
    "        count_brenk_matches.catalog = FilterCatalog(params)\n",
    "\n",
    "    matches = count_brenk_matches.catalog.GetMatches(mol)\n",
    "\n",
    "    return len(matches)\n"
   ]
  },
  {
   "cell_type": "code",
   "execution_count": 38,
   "metadata": {},
   "outputs": [
    {
     "data": {
      "text/plain": [
       "array([[<Axes: title={'center': 'brenk_matches'}>]], dtype=object)"
      ]
     },
     "execution_count": 38,
     "metadata": {},
     "output_type": "execute_result"
    },
    {
     "data": {
      "image/png": "[encoded data removed]",
      "text/plain": [
       "<Figure size 1000x500 with 1 Axes>"
      ]
     },
     "metadata": {},
     "output_type": "display_data"
    }
   ],
   "source": [
    "generated_molecules['brenk_matches'] = generated_molecules['smiles'].apply(count_brenk_matches)\n",
    "\n",
    "generated_molecules.hist(column='brenk_matches', bins=30, figsize=(10, 5))"
   ]
  },
  {
   "cell_type": "code",
   "execution_count": 39,
   "metadata": {},
   "outputs": [],
   "source": [
    "from rdkit import Chem\n",
    "from rdkit.Chem import Descriptors\n",
    "from rdkit.Chem.rdMolDescriptors import CalcExactMolWt, CalcNumLipinskiHBD, CalcNumLipinskiHBA\n",
    "\n",
    "def count_lipinski_violations_simple(smiles: str) -> int:\n",
    "\n",
    "    mol = Chem.MolFromSmiles(smiles)\n",
    "\n",
    "    violations_count = 0\n",
    "\n",
    "    # 1. Молекулярная масса (MW)\n",
    "    mw = CalcExactMolWt(mol)\n",
    "    if mw >= 500:\n",
    "        violations_count += 1\n",
    "\n",
    "    # 2. Число доноров водородных связей (HBD)\n",
    "    hbd = CalcNumLipinskiHBD(mol)\n",
    "    if hbd > 5:\n",
    "        violations_count += 1\n",
    "\n",
    "    # 3. Число акцепторов водородных связей (HBA)\n",
    "    hba = CalcNumLipinskiHBA(mol)\n",
    "    if hba > 10:\n",
    "        violations_count += 1\n",
    "\n",
    "    # 4. Коэффициент распределения октанол-вода (LogP)\n",
    "    logp = Descriptors.MolLogP(mol)\n",
    "    if logp > 5:\n",
    "        violations_count += 1\n",
    "\n",
    "    return violations_count\n"
   ]
  },
  {
   "cell_type": "code",
   "execution_count": 40,
   "metadata": {},
   "outputs": [],
   "source": [
    "generated_molecules['lipinski_violations'] = generated_molecules['smiles'].apply(count_lipinski_violations_simple)"
   ]
  },
  {
   "cell_type": "code",
   "execution_count": 41,
   "metadata": {},
   "outputs": [
    {
     "data": {
      "text/plain": [
       "<Axes: xlabel='lipinski_violations'>"
      ]
     },
     "execution_count": 41,
     "metadata": {},
     "output_type": "execute_result"
    },
    {
     "data": {
      "image/png": "[encoded data removed]",
      "text/plain": [
       "<Figure size 1000x500 with 1 Axes>"
      ]
     },
     "metadata": {},
     "output_type": "display_data"
    }
   ],
   "source": [
    "generated_molecules.lipinski_violations.value_counts().plot(kind='bar', figsize=(10, 5))"
   ]
  },
  {
   "cell_type": "markdown",
   "metadata": {},
   "source": [
    "Итоговый список молекул должен соответствовать:\n",
    "\n",
    "pValue > 6.0\n",
    "\n",
    "QED > 0.7 (в крайнем случае ≥ 0.5)\n",
    "\n",
    "2 < SA Score < 6\n",
    "\n",
    "Отсутствие токсофоров (по SMARTS или BRENK)\n",
    "\n",
    "Не более одного нарушения правил Липинского"
   ]
  },
  {
   "cell_type": "code",
   "execution_count": 42,
   "metadata": {},
   "outputs": [],
   "source": [
    "\n",
    "cond1 = generated_molecules.qed > 0.7\n",
    "cond2 = (generated_molecules.sa_score  > 2) & (generated_molecules.sa_score < 6)\n",
    "cond3 = generated_molecules.brenk_matches == 0\n",
    "cond4 = generated_molecules.lipinski_violations <= 1\n",
    "\n",
    "res_mask = cond1 & cond2 & cond3 & cond4\n"
   ]
  },
  {
   "cell_type": "markdown",
   "metadata": {},
   "source": [
    " # Подходящие молекулы, не учитывая первое условие  pIC50 > 6.0"
   ]
  },
  {
   "cell_type": "code",
   "execution_count": 43,
   "metadata": {},
   "outputs": [
    {
     "data": {
      "text/html": [
       "<div>\n",
       "<style scoped>\n",
       "    .dataframe tbody tr th:only-of-type {\n",
       "        vertical-align: middle;\n",
       "    }\n",
       "\n",
       "    .dataframe tbody tr th {\n",
       "        vertical-align: top;\n",
       "    }\n",
       "\n",
       "    .dataframe thead th {\n",
       "        text-align: right;\n",
       "    }\n",
       "</style>\n",
       "<table border=\"1\" class=\"dataframe\">\n",
       "  <thead>\n",
       "    <tr style=\"text-align: right;\">\n",
       "      <th></th>\n",
       "      <th>smiles</th>\n",
       "      <th>mol</th>\n",
       "      <th>predicted_value</th>\n",
       "      <th>qed</th>\n",
       "      <th>sa_score</th>\n",
       "      <th>brenk_matches</th>\n",
       "      <th>lipinski_violations</th>\n",
       "    </tr>\n",
       "  </thead>\n",
       "  <tbody>\n",
       "    <tr>\n",
       "      <th>5</th>\n",
       "      <td>Cc1cc(=O)c(-c2ccc(cc2)S(C)(=O)=O)c(o1)-c1ccc(F...</td>\n",
       "      <td>&lt;rdkit.Chem.rdchem.Mol object at 0x000001C73F4...</td>\n",
       "      <td>-2.493865</td>\n",
       "      <td>0.713820</td>\n",
       "      <td>2.200563</td>\n",
       "      <td>0</td>\n",
       "      <td>0</td>\n",
       "    </tr>\n",
       "    <tr>\n",
       "      <th>9</th>\n",
       "      <td>CS(=O)(=O)c1ccc(cc1)-c1[nH]c(Br)cc1-c1ccc(F)cc1</td>\n",
       "      <td>&lt;rdkit.Chem.rdchem.Mol object at 0x000001C73F4...</td>\n",
       "      <td>-2.084740</td>\n",
       "      <td>0.703020</td>\n",
       "      <td>2.261530</td>\n",
       "      <td>0</td>\n",
       "      <td>0</td>\n",
       "    </tr>\n",
       "    <tr>\n",
       "      <th>11</th>\n",
       "      <td>NS(=O)(=O)c1ccc(cc1)-n1nc(cc1-c1cccc(F)c1)C(F)...</td>\n",
       "      <td>&lt;rdkit.Chem.rdchem.Mol object at 0x000001C73F4...</td>\n",
       "      <td>-3.750893</td>\n",
       "      <td>0.702683</td>\n",
       "      <td>2.219366</td>\n",
       "      <td>0</td>\n",
       "      <td>0</td>\n",
       "    </tr>\n",
       "    <tr>\n",
       "      <th>18</th>\n",
       "      <td>Cc1nc(c(s1)-c1ccc(cc1)S(N)(=O)=O)-c1ccc(F)cc1</td>\n",
       "      <td>&lt;rdkit.Chem.rdchem.Mol object at 0x000001C73F4...</td>\n",
       "      <td>-2.236430</td>\n",
       "      <td>0.786218</td>\n",
       "      <td>2.050337</td>\n",
       "      <td>0</td>\n",
       "      <td>0</td>\n",
       "    </tr>\n",
       "    <tr>\n",
       "      <th>20</th>\n",
       "      <td>Cc1c(CC(O)=O)cc(-c2ccc(cc2)S(C)(=O)=O)n1-c1ccc...</td>\n",
       "      <td>&lt;rdkit.Chem.rdchem.Mol object at 0x000001C73F4...</td>\n",
       "      <td>-3.855871</td>\n",
       "      <td>0.725424</td>\n",
       "      <td>2.205058</td>\n",
       "      <td>0</td>\n",
       "      <td>0</td>\n",
       "    </tr>\n",
       "    <tr>\n",
       "      <th>25</th>\n",
       "      <td>Cc1ccc(cc1)-c1cc(nn1-c1ccc(cc1)S(N)(=O)=O)C(F)...</td>\n",
       "      <td>&lt;rdkit.Chem.rdchem.Mol object at 0x000001C73F4...</td>\n",
       "      <td>-2.712971</td>\n",
       "      <td>0.754105</td>\n",
       "      <td>2.144357</td>\n",
       "      <td>0</td>\n",
       "      <td>0</td>\n",
       "    </tr>\n",
       "    <tr>\n",
       "      <th>30</th>\n",
       "      <td>CS(=O)(=O)c1ccc(cc1)-c1[nH]c(Cl)cc1-c1ccc(F)cc1</td>\n",
       "      <td>&lt;rdkit.Chem.rdchem.Mol object at 0x000001C73F4...</td>\n",
       "      <td>-1.660028</td>\n",
       "      <td>0.754011</td>\n",
       "      <td>2.233123</td>\n",
       "      <td>0</td>\n",
       "      <td>0</td>\n",
       "    </tr>\n",
       "    <tr>\n",
       "      <th>45</th>\n",
       "      <td>COc1ccc(cc1)-c1cc(nn1-c1ccc(cc1)S(N)(=O)=O)C(F...</td>\n",
       "      <td>&lt;rdkit.Chem.rdchem.Mol object at 0x000001C73F4...</td>\n",
       "      <td>-4.084468</td>\n",
       "      <td>0.732386</td>\n",
       "      <td>2.146260</td>\n",
       "      <td>0</td>\n",
       "      <td>0</td>\n",
       "    </tr>\n",
       "    <tr>\n",
       "      <th>48</th>\n",
       "      <td>Cc1c(CC(O)=O)cc(-c2ccc(cc2)S(C)(=O)=O)n1-c1ccc...</td>\n",
       "      <td>&lt;rdkit.Chem.rdchem.Mol object at 0x000001C73F4...</td>\n",
       "      <td>-3.855871</td>\n",
       "      <td>0.725424</td>\n",
       "      <td>2.262035</td>\n",
       "      <td>0</td>\n",
       "      <td>0</td>\n",
       "    </tr>\n",
       "    <tr>\n",
       "      <th>50</th>\n",
       "      <td>CC(C)c1cc(cc2c1OCC2(C)C)C(=O)c1cccc(c1)S(C)(=O)=O</td>\n",
       "      <td>&lt;rdkit.Chem.rdchem.Mol object at 0x000001C73F4...</td>\n",
       "      <td>-1.255134</td>\n",
       "      <td>0.757818</td>\n",
       "      <td>2.627385</td>\n",
       "      <td>0</td>\n",
       "      <td>0</td>\n",
       "    </tr>\n",
       "    <tr>\n",
       "      <th>55</th>\n",
       "      <td>Cc1ccc(cc1C)-c1cc(nn1-c1ccc(cc1)S(N)(=O)=O)C(F...</td>\n",
       "      <td>&lt;rdkit.Chem.rdchem.Mol object at 0x000001C73F4...</td>\n",
       "      <td>-2.841642</td>\n",
       "      <td>0.732299</td>\n",
       "      <td>2.242051</td>\n",
       "      <td>0</td>\n",
       "      <td>0</td>\n",
       "    </tr>\n",
       "    <tr>\n",
       "      <th>62</th>\n",
       "      <td>NS(=O)(=O)c1ccc(cc1)-n1nc(c2CCc3ccccc3-c12)C(F...</td>\n",
       "      <td>&lt;rdkit.Chem.rdchem.Mol object at 0x000001C73F4...</td>\n",
       "      <td>-2.573871</td>\n",
       "      <td>0.725683</td>\n",
       "      <td>2.404604</td>\n",
       "      <td>0</td>\n",
       "      <td>0</td>\n",
       "    </tr>\n",
       "    <tr>\n",
       "      <th>66</th>\n",
       "      <td>NS(=O)(=O)c1ccc(cc1)-n1nc(cc1-c1ccccc1Cl)C(F)(F)F</td>\n",
       "      <td>&lt;rdkit.Chem.rdchem.Mol object at 0x000001C73F4...</td>\n",
       "      <td>-3.638252</td>\n",
       "      <td>0.723475</td>\n",
       "      <td>2.222547</td>\n",
       "      <td>0</td>\n",
       "      <td>0</td>\n",
       "    </tr>\n",
       "    <tr>\n",
       "      <th>84</th>\n",
       "      <td>CS(=O)(=O)c1ccc(cc1)-c1cc(nc(OC2CCCCC2)n1)C(F)...</td>\n",
       "      <td>&lt;rdkit.Chem.rdchem.Mol object at 0x000001C73F4...</td>\n",
       "      <td>-4.305894</td>\n",
       "      <td>0.766360</td>\n",
       "      <td>2.427808</td>\n",
       "      <td>0</td>\n",
       "      <td>0</td>\n",
       "    </tr>\n",
       "    <tr>\n",
       "      <th>91</th>\n",
       "      <td>CC(C)(O)c1cc(cc2c1OCC2(C)C)C(=O)c1cc(ccc1Cl)S(...</td>\n",
       "      <td>&lt;rdkit.Chem.rdchem.Mol object at 0x000001C73F4...</td>\n",
       "      <td>-2.187137</td>\n",
       "      <td>0.756169</td>\n",
       "      <td>2.798373</td>\n",
       "      <td>0</td>\n",
       "      <td>0</td>\n",
       "    </tr>\n",
       "    <tr>\n",
       "      <th>98</th>\n",
       "      <td>CS(=O)(=O)c1ccc(cc1)-c1nc(NCC(F)(F)F)cc(n1)C(F...</td>\n",
       "      <td>&lt;rdkit.Chem.rdchem.Mol object at 0x000001C73F4...</td>\n",
       "      <td>-3.610850</td>\n",
       "      <td>0.796732</td>\n",
       "      <td>2.497181</td>\n",
       "      <td>0</td>\n",
       "      <td>0</td>\n",
       "    </tr>\n",
       "    <tr>\n",
       "      <th>101</th>\n",
       "      <td>NS(=O)(=O)c1ccc(cc1)-n1nc(cc1-c1ccc(Cl)cc1)C(F...</td>\n",
       "      <td>&lt;rdkit.Chem.rdchem.Mol object at 0x000001C73F4...</td>\n",
       "      <td>-3.638252</td>\n",
       "      <td>0.723475</td>\n",
       "      <td>2.158116</td>\n",
       "      <td>0</td>\n",
       "      <td>0</td>\n",
       "    </tr>\n",
       "    <tr>\n",
       "      <th>118</th>\n",
       "      <td>NS(=O)(=O)c1ccc(cc1)N1N=C(CC1c1ccc(F)cc1)C(F)(F)F</td>\n",
       "      <td>&lt;rdkit.Chem.rdchem.Mol object at 0x000001C73F4...</td>\n",
       "      <td>-3.788383</td>\n",
       "      <td>0.821078</td>\n",
       "      <td>2.904562</td>\n",
       "      <td>0</td>\n",
       "      <td>0</td>\n",
       "    </tr>\n",
       "    <tr>\n",
       "      <th>120</th>\n",
       "      <td>COc1ccc(cc1F)-c1cc(nn1-c1ccc(cc1)S(N)(=O)=O)C(F)F</td>\n",
       "      <td>&lt;rdkit.Chem.rdchem.Mol object at 0x000001C73F4...</td>\n",
       "      <td>-2.566853</td>\n",
       "      <td>0.715871</td>\n",
       "      <td>2.372735</td>\n",
       "      <td>0</td>\n",
       "      <td>0</td>\n",
       "    </tr>\n",
       "    <tr>\n",
       "      <th>133</th>\n",
       "      <td>CC(C(O)=O)c1ccc(c(F)c1)-c1cccc(OC(=O)NC2CCCCC2)c1</td>\n",
       "      <td>&lt;rdkit.Chem.rdchem.Mol object at 0x000001C73F4...</td>\n",
       "      <td>-3.925921</td>\n",
       "      <td>0.750592</td>\n",
       "      <td>2.664909</td>\n",
       "      <td>0</td>\n",
       "      <td>1</td>\n",
       "    </tr>\n",
       "    <tr>\n",
       "      <th>142</th>\n",
       "      <td>Cc1c(CC(O)=O)cc(-c2ccc(cc2)S(C)(=O)=O)n1-c1ccc...</td>\n",
       "      <td>&lt;rdkit.Chem.rdchem.Mol object at 0x000001C73F4...</td>\n",
       "      <td>-3.402606</td>\n",
       "      <td>0.701288</td>\n",
       "      <td>2.333712</td>\n",
       "      <td>0</td>\n",
       "      <td>0</td>\n",
       "    </tr>\n",
       "    <tr>\n",
       "      <th>155</th>\n",
       "      <td>Cc1nc(c(s1)-c1ccc(cc1)S(C)(=O)=O)-c1ccc(F)cc1</td>\n",
       "      <td>&lt;rdkit.Chem.rdchem.Mol object at 0x000001C73F4...</td>\n",
       "      <td>-2.405425</td>\n",
       "      <td>0.708424</td>\n",
       "      <td>2.026175</td>\n",
       "      <td>0</td>\n",
       "      <td>0</td>\n",
       "    </tr>\n",
       "    <tr>\n",
       "      <th>162</th>\n",
       "      <td>NS(=O)(=O)c1ccc(cc1)-n1nc(cc1-c1cccc(Cl)c1)C(F...</td>\n",
       "      <td>&lt;rdkit.Chem.rdchem.Mol object at 0x000001C73F4...</td>\n",
       "      <td>-3.638252</td>\n",
       "      <td>0.723475</td>\n",
       "      <td>2.209660</td>\n",
       "      <td>0</td>\n",
       "      <td>0</td>\n",
       "    </tr>\n",
       "    <tr>\n",
       "      <th>167</th>\n",
       "      <td>Cc1ccc(cc1)C1CC(=NN1c1ccc(cc1)S(N)(=O)=O)c1ccc...</td>\n",
       "      <td>&lt;rdkit.Chem.rdchem.Mol object at 0x000001C73F4...</td>\n",
       "      <td>-2.699294</td>\n",
       "      <td>0.702804</td>\n",
       "      <td>2.578015</td>\n",
       "      <td>0</td>\n",
       "      <td>0</td>\n",
       "    </tr>\n",
       "    <tr>\n",
       "      <th>189</th>\n",
       "      <td>Cc1cc(=O)c(-c2ccc(Cl)cc2)c(o1)-c1ccc(cc1)S(N)(...</td>\n",
       "      <td>&lt;rdkit.Chem.rdchem.Mol object at 0x000001C73F4...</td>\n",
       "      <td>-2.346727</td>\n",
       "      <td>0.756982</td>\n",
       "      <td>2.217792</td>\n",
       "      <td>0</td>\n",
       "      <td>0</td>\n",
       "    </tr>\n",
       "    <tr>\n",
       "      <th>198</th>\n",
       "      <td>Cc1ccc(cn1)-c1cc(nn1-c1ccc(cc1)S(N)(=O)=O)C(F)...</td>\n",
       "      <td>&lt;rdkit.Chem.rdchem.Mol object at 0x000001C73F4...</td>\n",
       "      <td>-2.886730</td>\n",
       "      <td>0.754076</td>\n",
       "      <td>2.354011</td>\n",
       "      <td>0</td>\n",
       "      <td>0</td>\n",
       "    </tr>\n",
       "  </tbody>\n",
       "</table>\n",
       "</div>"
      ],
      "text/plain": [
       "                                                smiles  \\\n",
       "5    Cc1cc(=O)c(-c2ccc(cc2)S(C)(=O)=O)c(o1)-c1ccc(F...   \n",
       "9      CS(=O)(=O)c1ccc(cc1)-c1[nH]c(Br)cc1-c1ccc(F)cc1   \n",
       "11   NS(=O)(=O)c1ccc(cc1)-n1nc(cc1-c1cccc(F)c1)C(F)...   \n",
       "18       Cc1nc(c(s1)-c1ccc(cc1)S(N)(=O)=O)-c1ccc(F)cc1   \n",
       "20   Cc1c(CC(O)=O)cc(-c2ccc(cc2)S(C)(=O)=O)n1-c1ccc...   \n",
       "25   Cc1ccc(cc1)-c1cc(nn1-c1ccc(cc1)S(N)(=O)=O)C(F)...   \n",
       "30     CS(=O)(=O)c1ccc(cc1)-c1[nH]c(Cl)cc1-c1ccc(F)cc1   \n",
       "45   COc1ccc(cc1)-c1cc(nn1-c1ccc(cc1)S(N)(=O)=O)C(F...   \n",
       "48   Cc1c(CC(O)=O)cc(-c2ccc(cc2)S(C)(=O)=O)n1-c1ccc...   \n",
       "50   CC(C)c1cc(cc2c1OCC2(C)C)C(=O)c1cccc(c1)S(C)(=O)=O   \n",
       "55   Cc1ccc(cc1C)-c1cc(nn1-c1ccc(cc1)S(N)(=O)=O)C(F...   \n",
       "62   NS(=O)(=O)c1ccc(cc1)-n1nc(c2CCc3ccccc3-c12)C(F...   \n",
       "66   NS(=O)(=O)c1ccc(cc1)-n1nc(cc1-c1ccccc1Cl)C(F)(F)F   \n",
       "84   CS(=O)(=O)c1ccc(cc1)-c1cc(nc(OC2CCCCC2)n1)C(F)...   \n",
       "91   CC(C)(O)c1cc(cc2c1OCC2(C)C)C(=O)c1cc(ccc1Cl)S(...   \n",
       "98   CS(=O)(=O)c1ccc(cc1)-c1nc(NCC(F)(F)F)cc(n1)C(F...   \n",
       "101  NS(=O)(=O)c1ccc(cc1)-n1nc(cc1-c1ccc(Cl)cc1)C(F...   \n",
       "118  NS(=O)(=O)c1ccc(cc1)N1N=C(CC1c1ccc(F)cc1)C(F)(F)F   \n",
       "120  COc1ccc(cc1F)-c1cc(nn1-c1ccc(cc1)S(N)(=O)=O)C(F)F   \n",
       "133  CC(C(O)=O)c1ccc(c(F)c1)-c1cccc(OC(=O)NC2CCCCC2)c1   \n",
       "142  Cc1c(CC(O)=O)cc(-c2ccc(cc2)S(C)(=O)=O)n1-c1ccc...   \n",
       "155      Cc1nc(c(s1)-c1ccc(cc1)S(C)(=O)=O)-c1ccc(F)cc1   \n",
       "162  NS(=O)(=O)c1ccc(cc1)-n1nc(cc1-c1cccc(Cl)c1)C(F...   \n",
       "167  Cc1ccc(cc1)C1CC(=NN1c1ccc(cc1)S(N)(=O)=O)c1ccc...   \n",
       "189  Cc1cc(=O)c(-c2ccc(Cl)cc2)c(o1)-c1ccc(cc1)S(N)(...   \n",
       "198  Cc1ccc(cn1)-c1cc(nn1-c1ccc(cc1)S(N)(=O)=O)C(F)...   \n",
       "\n",
       "                                                   mol  predicted_value  \\\n",
       "5    <rdkit.Chem.rdchem.Mol object at 0x000001C73F4...        -2.493865   \n",
       "9    <rdkit.Chem.rdchem.Mol object at 0x000001C73F4...        -2.084740   \n",
       "11   <rdkit.Chem.rdchem.Mol object at 0x000001C73F4...        -3.750893   \n",
       "18   <rdkit.Chem.rdchem.Mol object at 0x000001C73F4...        -2.236430   \n",
       "20   <rdkit.Chem.rdchem.Mol object at 0x000001C73F4...        -3.855871   \n",
       "25   <rdkit.Chem.rdchem.Mol object at 0x000001C73F4...        -2.712971   \n",
       "30   <rdkit.Chem.rdchem.Mol object at 0x000001C73F4...        -1.660028   \n",
       "45   <rdkit.Chem.rdchem.Mol object at 0x000001C73F4...        -4.084468   \n",
       "48   <rdkit.Chem.rdchem.Mol object at 0x000001C73F4...        -3.855871   \n",
       "50   <rdkit.Chem.rdchem.Mol object at 0x000001C73F4...        -1.255134   \n",
       "55   <rdkit.Chem.rdchem.Mol object at 0x000001C73F4...        -2.841642   \n",
       "62   <rdkit.Chem.rdchem.Mol object at 0x000001C73F4...        -2.573871   \n",
       "66   <rdkit.Chem.rdchem.Mol object at 0x000001C73F4...        -3.638252   \n",
       "84   <rdkit.Chem.rdchem.Mol object at 0x000001C73F4...        -4.305894   \n",
       "91   <rdkit.Chem.rdchem.Mol object at 0x000001C73F4...        -2.187137   \n",
       "98   <rdkit.Chem.rdchem.Mol object at 0x000001C73F4...        -3.610850   \n",
       "101  <rdkit.Chem.rdchem.Mol object at 0x000001C73F4...        -3.638252   \n",
       "118  <rdkit.Chem.rdchem.Mol object at 0x000001C73F4...        -3.788383   \n",
       "120  <rdkit.Chem.rdchem.Mol object at 0x000001C73F4...        -2.566853   \n",
       "133  <rdkit.Chem.rdchem.Mol object at 0x000001C73F4...        -3.925921   \n",
       "142  <rdkit.Chem.rdchem.Mol object at 0x000001C73F4...        -3.402606   \n",
       "155  <rdkit.Chem.rdchem.Mol object at 0x000001C73F4...        -2.405425   \n",
       "162  <rdkit.Chem.rdchem.Mol object at 0x000001C73F4...        -3.638252   \n",
       "167  <rdkit.Chem.rdchem.Mol object at 0x000001C73F4...        -2.699294   \n",
       "189  <rdkit.Chem.rdchem.Mol object at 0x000001C73F4...        -2.346727   \n",
       "198  <rdkit.Chem.rdchem.Mol object at 0x000001C73F4...        -2.886730   \n",
       "\n",
       "          qed  sa_score  brenk_matches  lipinski_violations  \n",
       "5    0.713820  2.200563              0                    0  \n",
       "9    0.703020  2.261530              0                    0  \n",
       "11   0.702683  2.219366              0                    0  \n",
       "18   0.786218  2.050337              0                    0  \n",
       "20   0.725424  2.205058              0                    0  \n",
       "25   0.754105  2.144357              0                    0  \n",
       "30   0.754011  2.233123              0                    0  \n",
       "45   0.732386  2.146260              0                    0  \n",
       "48   0.725424  2.262035              0                    0  \n",
       "50   0.757818  2.627385              0                    0  \n",
       "55   0.732299  2.242051              0                    0  \n",
       "62   0.725683  2.404604              0                    0  \n",
       "66   0.723475  2.222547              0                    0  \n",
       "84   0.766360  2.427808              0                    0  \n",
       "91   0.756169  2.798373              0                    0  \n",
       "98   0.796732  2.497181              0                    0  \n",
       "101  0.723475  2.158116              0                    0  \n",
       "118  0.821078  2.904562              0                    0  \n",
       "120  0.715871  2.372735              0                    0  \n",
       "133  0.750592  2.664909              0                    1  \n",
       "142  0.701288  2.333712              0                    0  \n",
       "155  0.708424  2.026175              0                    0  \n",
       "162  0.723475  2.209660              0                    0  \n",
       "167  0.702804  2.578015              0                    0  \n",
       "189  0.756982  2.217792              0                    0  \n",
       "198  0.754076  2.354011              0                    0  "
      ]
     },
     "execution_count": 43,
     "metadata": {},
     "output_type": "execute_result"
    }
   ],
   "source": [
    "generated_molecules[res_mask]"
   ]
  }
 ],
 "metadata": {
  "kernelspec": {
   "display_name": "Python 3",
   "language": "python",
   "name": "python3"
  },
  "language_info": {
   "codemirror_mode": {
    "name": "ipython",
    "version": 3
   },
   "file_extension": ".py",
   "mimetype": "text/x-python",
   "name": "python",
   "nbconvert_exporter": "python",
   "pygments_lexer": "ipython3",
   "version": "3.9.13"
  }
 },
 "nbformat": 4,
 "nbformat_minor": 2
}
